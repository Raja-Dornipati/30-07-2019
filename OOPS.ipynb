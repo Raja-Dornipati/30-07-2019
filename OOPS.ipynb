{
 "cells": [
  {
   "cell_type": "markdown",
   "metadata": {},
   "source": [
    "### Creatting a class"
   ]
  },
  {
   "cell_type": "code",
   "execution_count": 8,
   "metadata": {},
   "outputs": [
    {
     "name": "stdout",
     "output_type": "stream",
     "text": [
      "Helo, good Morning\n"
     ]
    }
   ],
   "source": [
    "class Abc:\n",
    "    def printinfo(self): # when we create a method inside a class we have to pass the arguments 'self'\n",
    "        print(\"Helo, good Morning\")\n",
    "obj = Abc()\n",
    "obj.printinfo()"
   ]
  },
  {
   "cell_type": "code",
   "execution_count": 23,
   "metadata": {},
   "outputs": [
    {
     "name": "stdout",
     "output_type": "stream",
     "text": [
      "314.1592653589793\n",
      "62.83185307179586\n"
     ]
    }
   ],
   "source": [
    "import math\n",
    "class Circle:\n",
    "\n",
    "    def Area(self,r):\n",
    "        print(math.pi*r**2)\n",
    "    def Perimeter(self,r):\n",
    "        print(2*math.pi*r)\n",
    "\n",
    "a = Circle()\n",
    "a.Area(10)\n",
    "a.Perimeter(10)"
   ]
  },
  {
   "cell_type": "code",
   "execution_count": 29,
   "metadata": {},
   "outputs": [
    {
     "name": "stdout",
     "output_type": "stream",
     "text": [
      "Enter the number of cirlces to create: 3\n",
      "enter radious: 10\n",
      "Area of cirlce is :  314.1592653589793\n",
      "perimeter of cirlce is :  62.83185307179586\n",
      "enter radious: 8\n",
      "Area of cirlce is :  201.06192982974676\n",
      "perimeter of cirlce is :  50.26548245743669\n",
      "enter radious: 7\n",
      "Area of cirlce is :  153.93804002589985\n",
      "perimeter of cirlce is :  43.982297150257104\n"
     ]
    }
   ],
   "source": [
    "import math\n",
    "class Circle:\n",
    "\n",
    "    def Area(self,r):\n",
    "        print(\"Area of cirlce is : \" , math.pi*r**2)\n",
    "    def Perimeter(self,r):\n",
    "        print(\"perimeter of cirlce is : \" , 2*math.pi*r)\n",
    "n=int(input(\"Enter the number of cirlces to create: \"))\n",
    "for i in range(0,n):\n",
    "    r=int(input(\"enter radious: \"))\n",
    "    a = Circle()\n",
    "    a.Area(r)\n",
    "    a.Perimeter(r)\n"
   ]
  },
  {
   "cell_type": "markdown",
   "metadata": {},
   "source": [
    "### __init__  is constructor"
   ]
  },
  {
   "cell_type": "code",
   "execution_count": 33,
   "metadata": {},
   "outputs": [
    {
     "name": "stdout",
     "output_type": "stream",
     "text": [
      "Area of cirlce is :  28.274333882308138\n"
     ]
    }
   ],
   "source": [
    "import math\n",
    "class Circle:\n",
    "    def __init__(self,r):\n",
    "        self.r=r\n",
    "    def Area(self):\n",
    "        print(\"Area of cirlce is : \" , math.pi*self.r**2)\n",
    "    def Perimeter(self,r):\n",
    "        print(\"perimeter of cirlce is : \" , 2*math.pi*self.r)\n",
    "a1=Circle(3)\n",
    "a1.Area()"
   ]
  },
  {
   "cell_type": "markdown",
   "metadata": {},
   "source": [
    "### Inheritance\n",
    "* Single Inheritance"
   ]
  },
  {
   "cell_type": "code",
   "execution_count": 40,
   "metadata": {},
   "outputs": [
    {
     "name": "stdout",
     "output_type": "stream",
     "text": [
      " this is mi mobile \n",
      "Please enter the price of the mobile:\n",
      "2000\n",
      "2000\n"
     ]
    }
   ],
   "source": [
    "class Mi:\n",
    "    def Price(self):\n",
    "        P = int(input(\" this is mi mobile \\nPlease enter the price of the mobile:\\n\"))\n",
    "        print(P)\n",
    "class Lenovo(Mi):\n",
    "    def Pri(self):\n",
    "        PR = int(input(\"This is Lenovo mobile \\nPlease enter the price of the mobile:\\n\"))\n",
    "        print(PR)\n",
    "obj = Lenovo()\n",
    "obj.Price()"
   ]
  },
  {
   "cell_type": "markdown",
   "metadata": {},
   "source": [
    "* multi-level inheritance"
   ]
  },
  {
   "cell_type": "code",
   "execution_count": 42,
   "metadata": {},
   "outputs": [
    {
     "name": "stdout",
     "output_type": "stream",
     "text": [
      "This is Lenovo Mobile\n",
      "\n",
      "This is Oppo mobile\n",
      " Inherited \n",
      " Mi and \n",
      " Lenovo\n"
     ]
    }
   ],
   "source": [
    "class Lenovo:\n",
    "    def Model1(self):\n",
    "        print(\"This is Lenovo Mobile\\n\")\n",
    "class Mi(Lenovo):\n",
    "    def Model2(self):\n",
    "        print(\"This is mi mobile\\n Inherited the lenovo mobile\")\n",
    "class Oppo(Mi):\n",
    "    def Model3(self):\n",
    "        print(\"This is Oppo mobile\\n Inherited \\n Mi and \\n Lenovo\")\n",
    "\n",
    "obj = Oppo()\n",
    "obj.Model1()\n",
    "obj.Model3()"
   ]
  },
  {
   "cell_type": "markdown",
   "metadata": {},
   "source": [
    "* multiple-inheritance"
   ]
  },
  {
   "cell_type": "code",
   "execution_count": 43,
   "metadata": {},
   "outputs": [
    {
     "name": "stdout",
     "output_type": "stream",
     "text": [
      "This is lenovo mobile and is a parent class\n",
      "\n",
      "THis is mi mobile and is a parent class \n",
      "\n"
     ]
    }
   ],
   "source": [
    "class Lenovo:\n",
    "    def Model1(self):\n",
    "        print(\"This is lenovo mobile and is a parent class\\n\")\n",
    "class Mi:\n",
    "    def Model2(self):\n",
    "        print(\"THis is mi mobile and is a parent class \\n\")\n",
    "class Oppo(Lenovo,Mi):\n",
    "    def Model3(self):\n",
    "        print(\"this is opo mobile and inherited mi and lenovo\")\n",
    "obj1 = Oppo()\n",
    "obj1.Model1()\n",
    "obj1.Model2()\n",
    "\n",
    "        "
   ]
  },
  {
   "cell_type": "markdown",
   "metadata": {},
   "source": [
    "* Hierachial Inheritance"
   ]
  },
  {
   "cell_type": "code",
   "execution_count": 44,
   "metadata": {},
   "outputs": [
    {
     "name": "stdout",
     "output_type": "stream",
     "text": [
      "This is mi and inherited apple\n",
      "\n",
      "This is lenovo and inherited apple\n",
      "\n"
     ]
    }
   ],
   "source": [
    "class Apple:\n",
    "    def Model1(self):\n",
    "        print(\"This is apple and is the parent class \\n\")\n",
    "class Lenovo(Apple):\n",
    "    def Model2(self):\n",
    "        print(\"This is lenovo and inherited apple\\n\")\n",
    "class Mi(Apple):\n",
    "    def Model3(self):\n",
    "        print(\"This is mi and inherited apple\\n\")\n",
    "obj = Lenovo()\n",
    "obj1 = Mi()\n",
    "obj1.Model3()\n",
    "obj.Model2()"
   ]
  },
  {
   "cell_type": "markdown",
   "metadata": {},
   "source": [
    "* Hybrid Inheritance"
   ]
  },
  {
   "cell_type": "code",
   "execution_count": 45,
   "metadata": {},
   "outputs": [
    {
     "name": "stdout",
     "output_type": "stream",
     "text": [
      "This is vivo \n",
      " and this is a hybrid inheritance\n",
      "\n",
      "This is mi and inherited apple\n",
      "\n"
     ]
    }
   ],
   "source": [
    "class Apple:\n",
    "    def Model1(self):\n",
    "        print(\"This is apple and is the parent class \\n\")\n",
    "class Lenovo(Apple):\n",
    "    def Model2(self):\n",
    "        print(\"This is lenovo and inherited apple\\n\")\n",
    "class Mi(Lenovo):\n",
    "    def Model3(self):\n",
    "        print(\"This is mi and inherited apple\\n\")\n",
    "class Vivo(Lenovo):\n",
    "    def Model4(self):\n",
    "        print(\"This is vivo \\n and this is a hybrid inheritance\\n\")\n",
    "obj1 = Vivo()\n",
    "obj1.Model4()\n",
    "obj2 = Mi()\n",
    "obj2.Model3()"
   ]
  },
  {
   "cell_type": "markdown",
   "metadata": {},
   "source": [
    "### Overloading"
   ]
  },
  {
   "cell_type": "code",
   "execution_count": 46,
   "metadata": {},
   "outputs": [
    {
     "name": "stdout",
     "output_type": "stream",
     "text": [
      "Hello raja\n",
      "Hello Ravi\n"
     ]
    }
   ],
   "source": [
    "def printinfo():\n",
    "    print(\"Hello..........\")\n",
    "def printinfo(name):\n",
    "    print(\"Hello\",name)\n",
    "printinfo('raja')\n",
    "printinfo(\"Ravi\")"
   ]
  },
  {
   "cell_type": "markdown",
   "metadata": {},
   "source": [
    "### Overriding"
   ]
  },
  {
   "cell_type": "code",
   "execution_count": 47,
   "metadata": {},
   "outputs": [
    {
     "name": "stdout",
     "output_type": "stream",
     "text": [
      "Hello Mi\n"
     ]
    }
   ],
   "source": [
    "class Lenovo:\n",
    "    def Model1(self):\n",
    "        print(\"Hello Lenovo\")\n",
    "class Mi(Lenovo):\n",
    "    def Model1(self):\n",
    "        print(\"Hello Mi\")\n",
    "obj = Mi()\n",
    "obj.Model1()"
   ]
  },
  {
   "cell_type": "markdown",
   "metadata": {},
   "source": [
    "* Member Creation (variable outside function and inside a classs --- CLASS VARIABLES )\n",
    "* (variable inside the function in a class --------- LOCAL VARIABLES)\n",
    "* abstraction --(hiding data ------ private variables | How to  access private variables)\n",
    "* Overloading( Operators overloading )"
   ]
  },
  {
   "cell_type": "code",
   "execution_count": 48,
   "metadata": {},
   "outputs": [
    {
     "name": "stdout",
     "output_type": "stream",
     "text": [
      "30\n"
     ]
    }
   ],
   "source": [
    "# First progarm\n",
    "class Add:\n",
    "    sum=0\n",
    "    def add1(self,a,b):\n",
    "        sum=a+b\n",
    "        print(sum)\n",
    "s=Add()\n",
    "s.add1(10,20)"
   ]
  },
  {
   "cell_type": "code",
   "execution_count": 49,
   "metadata": {},
   "outputs": [
    {
     "name": "stdout",
     "output_type": "stream",
     "text": [
      "30\n"
     ]
    }
   ],
   "source": [
    "# second program\n",
    "class Hide:\n",
    "    __hiddenvalue=10\n",
    "    def add(self,a):\n",
    "        self.__hiddenvalue+=a\n",
    "        print(self.__hiddenvalue)\n",
    "obj=Hide()\n",
    "obj.add(20)"
   ]
  },
  {
   "cell_type": "code",
   "execution_count": null,
   "metadata": {},
   "outputs": [],
   "source": []
  }
 ],
 "metadata": {
  "kernelspec": {
   "display_name": "Python 3",
   "language": "python",
   "name": "python3"
  },
  "language_info": {
   "codemirror_mode": {
    "name": "ipython",
    "version": 3
   },
   "file_extension": ".py",
   "mimetype": "text/x-python",
   "name": "python",
   "nbconvert_exporter": "python",
   "pygments_lexer": "ipython3",
   "version": "3.6.5"
  }
 },
 "nbformat": 4,
 "nbformat_minor": 2
}
